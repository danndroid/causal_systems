{
 "cells": [
  {
   "cell_type": "code",
   "execution_count": 1,
   "id": "312c3007-fcea-479e-8175-3a701961f660",
   "metadata": {},
   "outputs": [],
   "source": [
    "import numpy as np\n",
    "import pandas as pd\n",
    "from scipy.stats import norm, binom, bernoulli\n",
    "from scipy.stats import pearsonr\n",
    "\n",
    "import matplotlib.pyplot as plt\n",
    "import seaborn as sns\n",
    "\n",
    "import statsmodels.formula.api as smf\n",
    "\n",
    "from scipy.stats import zscore\n",
    "\n",
    "from IPython.display import Image, display"
   ]
  },
  {
   "cell_type": "code",
   "execution_count": 2,
   "id": "b68f0f41-1c45-4dd9-a66d-8251b83fd3ee",
   "metadata": {},
   "outputs": [],
   "source": [
    "from utils import my_fisherz"
   ]
  },
  {
   "cell_type": "code",
   "execution_count": 3,
   "id": "e25fcd2d-359f-41e2-9a49-4ecaecd5afb6",
   "metadata": {},
   "outputs": [
    {
     "name": "stderr",
     "output_type": "stream",
     "text": [
      "/home/warrior/miniconda3/envs/brain/lib/python3.9/site-packages/tqdm/auto.py:21: TqdmWarning: IProgress not found. Please update jupyter and ipywidgets. See https://ipywidgets.readthedocs.io/en/stable/user_install.html\n",
      "  from .autonotebook import tqdm as notebook_tqdm\n"
     ]
    }
   ],
   "source": [
    "from causallearn.search.ConstraintBased.FCI import fci\n",
    "from causallearn.utils.GraphUtils import GraphUtils"
   ]
  },
  {
   "cell_type": "code",
   "execution_count": 5,
   "id": "990e8b42-c09a-4fbc-a0a2-107f654ad0e0",
   "metadata": {},
   "outputs": [],
   "source": [
    "df = pd.read_csv('data/model_collider.csv').values\n",
    "data = zscore(df)"
   ]
  },
  {
   "cell_type": "code",
   "execution_count": 6,
   "id": "d8d4b76f-429f-462d-96c2-e1d80d353996",
   "metadata": {},
   "outputs": [
    {
     "name": "stderr",
     "output_type": "stream",
     "text": [
      "Depth=0, working on node 2: 100%|███████████████| 3/3 [00:00<00:00, 1451.32it/s]"
     ]
    },
    {
     "name": "stdout",
     "output_type": "stream",
     "text": [
      "0 ind 1 | () with p-value 0.833125\n",
      "\n",
      "0 dep 2 | () with p-value 0.000000\n",
      "\n",
      "1 ind 0 | () with p-value 0.833125\n",
      "\n",
      "1 dep 2 | () with p-value 0.000000\n",
      "\n",
      "2 dep 0 | () with p-value 0.000000\n",
      "\n",
      "2 dep 1 | () with p-value 0.000000\n",
      "\n",
      "2 dep 0 | (1,) with p-value 0.000000\n",
      "\n",
      "2 dep 1 | (0,) with p-value 0.000000\n",
      "\n",
      "Orienting collider: x *-> z <-* y\n",
      "Orienting collider: x *-> z <-* y\n"
     ]
    },
    {
     "name": "stderr",
     "output_type": "stream",
     "text": [
      "\n"
     ]
    }
   ],
   "source": [
    "g, edges = fci(data, independence_test_method='fisherz',\n",
    "               node_names=['x','y','z'],\n",
    "               verbose=True)"
   ]
  },
  {
   "cell_type": "code",
   "execution_count": 7,
   "id": "d0687b3e-8b7c-4e4c-aa8e-7de4ddd82a38",
   "metadata": {},
   "outputs": [
    {
     "data": {
      "text/plain": [
       "array([[0, 0, 2],\n",
       "       [0, 0, 2],\n",
       "       [1, 1, 0]])"
      ]
     },
     "execution_count": 7,
     "metadata": {},
     "output_type": "execute_result"
    }
   ],
   "source": [
    "g.graph"
   ]
  },
  {
   "cell_type": "code",
   "execution_count": 8,
   "id": "ccb95249-aa0b-4434-b6bb-58a97949978c",
   "metadata": {},
   "outputs": [],
   "source": [
    "pdy = GraphUtils.to_pydot(g)"
   ]
  },
  {
   "cell_type": "code",
   "execution_count": 9,
   "id": "dbb8e681-7bc1-4b9c-bc99-3168187aa58d",
   "metadata": {},
   "outputs": [
    {
     "data": {
      "image/png": "[encoded data removed]",
      "text/plain": [
       "<IPython.core.display.Image object>"
      ]
     },
     "execution_count": 9,
     "metadata": {
      "image/png": {
       "height": 150,
       "width": 150
      }
     },
     "output_type": "execute_result"
    }
   ],
   "source": [
    "Image(pdy.create_png(), width=150, height=150)"
   ]
  },
  {
   "cell_type": "code",
   "execution_count": 9,
   "id": "664fdb35-5c2f-443a-8f01-40b90a7a1818",
   "metadata": {},
   "outputs": [],
   "source": [
    "x, y, z = data[:,0], data[:,1], data[:,2]"
   ]
  },
  {
   "cell_type": "code",
   "execution_count": 10,
   "id": "174cdcc3-b32b-40fc-8e90-7594e2aa4b9a",
   "metadata": {},
   "outputs": [
    {
     "name": "stdout",
     "output_type": "stream",
     "text": [
      "(x,y) r:0.5440 p:0.0000\n",
      "(x,z) r:0.9711 p:0.0000\n",
      "(y,z) r:0.5274 p:0.0000\n"
     ]
    }
   ],
   "source": [
    "print(f'(x,y) r:{pearsonr(x,y).statistic:.4f} p:{pearsonr(x,y).pvalue:.4f}')\n",
    "print(f'(x,z) r:{pearsonr(x,z).statistic:.4f} p:{pearsonr(x,z).pvalue:.4f}')\n",
    "print(f'(y,z) r:{pearsonr(y,z).statistic:.4f} p:{pearsonr(y,z).pvalue:.4f}')"
   ]
  },
  {
   "cell_type": "code",
   "execution_count": 11,
   "id": "95ea0b20-47e5-4625-b16b-297d65d90820",
   "metadata": {},
   "outputs": [],
   "source": [
    "x = np.expand_dims(x, axis=1)\n",
    "y = np.expand_dims(y, axis=1)\n",
    "z = np.expand_dims(z, axis=1)"
   ]
  },
  {
   "cell_type": "code",
   "execution_count": 12,
   "id": "7489ebab-9d21-4b8e-ba9c-be684ff77669",
   "metadata": {},
   "outputs": [
    {
     "name": "stdout",
     "output_type": "stream",
     "text": [
      "19.2533, 0.0000\n",
      "4.9906, 0.0000\n"
     ]
    }
   ],
   "source": [
    "my_fisherz(x,y)\n",
    "my_fisherz(x,y, condition_on=z)"
   ]
  },
  {
   "cell_type": "code",
   "execution_count": 15,
   "id": "6786f1b8-f51a-4935-8b81-75247a59c961",
   "metadata": {},
   "outputs": [
    {
     "name": "stdout",
     "output_type": "stream",
     "text": [
      "66.6378, 0.0000\n",
      "61.2787, 0.0000\n"
     ]
    }
   ],
   "source": [
    "my_fisherz(x,z)\n",
    "my_fisherz(x,z, condition_on=y)"
   ]
  },
  {
   "cell_type": "code",
   "execution_count": 16,
   "id": "5920ea56-0a45-4833-aa97-da3a4387a6db",
   "metadata": {},
   "outputs": [
    {
     "name": "stdout",
     "output_type": "stream",
     "text": [
      "18.5198, 0.0000\n",
      "0.1284, 0.8978\n"
     ]
    }
   ],
   "source": [
    "my_fisherz(y,z)\n",
    "my_fisherz(y,z, condition_on=x)"
   ]
  },
  {
   "cell_type": "code",
   "execution_count": null,
   "id": "24248d11-e236-41df-b779-974047e0a223",
   "metadata": {},
   "outputs": [],
   "source": []
  }
 ],
 "metadata": {
  "kernelspec": {
   "display_name": "Python 3 (ipykernel)",
   "language": "python",
   "name": "python3"
  },
  "language_info": {
   "codemirror_mode": {
    "name": "ipython",
    "version": 3
   },
   "file_extension": ".py",
   "mimetype": "text/x-python",
   "name": "python",
   "nbconvert_exporter": "python",
   "pygments_lexer": "ipython3",
   "version": "3.9.13"
  }
 },
 "nbformat": 4,
 "nbformat_minor": 5
}
