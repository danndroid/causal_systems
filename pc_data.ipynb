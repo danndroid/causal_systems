{
 "cells": [
  {
   "cell_type": "code",
   "execution_count": 1,
   "id": "403b1371-3096-4cef-9128-4464449e8a0a",
   "metadata": {},
   "outputs": [],
   "source": [
    "import numpy as np\n",
    "import pandas as pd\n",
    "from scipy.stats import norm, binom, bernoulli\n",
    "from scipy.stats import pearsonr\n",
    "import random\n",
    "\n",
    "import matplotlib.pyplot as plt\n",
    "import seaborn as sns"
   ]
  },
  {
   "cell_type": "code",
   "execution_count": 2,
   "id": "448eea7c-53bc-4a86-850a-c93417f2f9d5",
   "metadata": {},
   "outputs": [],
   "source": [
    "N = 1000\n",
    "n_variables = 5"
   ]
  },
  {
   "cell_type": "code",
   "execution_count": 10,
   "id": "25d7902a-5e13-4355-952a-8f1c83307c9b",
   "metadata": {},
   "outputs": [],
   "source": [
    "from scipy.stats import randint"
   ]
  },
  {
   "cell_type": "markdown",
   "id": "ac8f1fa9-46c0-41f1-b19d-e792b67a9307",
   "metadata": {},
   "source": [
    "SEM Model"
   ]
  },
  {
   "cell_type": "code",
   "execution_count": 16,
   "id": "cf80e4d5-51a2-4d53-9d19-acfd30561a23",
   "metadata": {},
   "outputs": [],
   "source": [
    "a = norm.rvs(size=N)\n",
    "\n",
    "b = random.randint(1, 6) + 3*a + np.random.rand()*norm.rvs(size=N)\n",
    "c = random.randint(1, 6) + 3*b + np.random.rand()*norm.rvs(size=N)\n",
    "d = random.randint(1, 6) + 3*b + np.random.rand()*norm.rvs(size=N)\n",
    "e = random.randint(1, 6) + 3*c + 3*d + np.random.rand()*norm.rvs(size=N)"
   ]
  },
  {
   "cell_type": "code",
   "execution_count": 17,
   "id": "e87afaf6-0f2f-40c3-8a6f-4f4c9b362341",
   "metadata": {},
   "outputs": [],
   "source": [
    "df = pd.DataFrame({'a':a,\n",
    "             'b':b,\n",
    "             'c':c,\n",
    "             'd':d,\n",
    "             'e':e,})"
   ]
  },
  {
   "cell_type": "code",
   "execution_count": 18,
   "id": "233908a6-aad4-4b80-9801-8a61a5a74a52",
   "metadata": {},
   "outputs": [],
   "source": [
    "df.to_csv('data/model_pc_example.csv', index=False)"
   ]
  },
  {
   "cell_type": "code",
   "execution_count": 19,
   "id": "89e395af-daa3-4a86-9854-afadab24426f",
   "metadata": {},
   "outputs": [
    {
     "data": {
      "text/plain": [
       "5"
      ]
     },
     "execution_count": 19,
     "metadata": {},
     "output_type": "execute_result"
    }
   ],
   "source": [
    "correlation_matrix = np.corrcoef(df.T)\n",
    "np.linalg.matrix_rank(correlation_matrix)"
   ]
  },
  {
   "cell_type": "code",
   "execution_count": 20,
   "id": "b5530104-9f18-41bb-a482-6378366a968b",
   "metadata": {},
   "outputs": [
    {
     "data": {
      "image/png": "[encoded data removed]",
      "text/plain": [
       "<Figure size 400x300 with 2 Axes>"
      ]
     },
     "metadata": {},
     "output_type": "display_data"
    }
   ],
   "source": [
    "plt.figure(figsize=(4,3))\n",
    "#plt.title('Correlation Between Variables', fontsize=25)\n",
    "sns.heatmap(correlation_matrix, cmap='vlag', vmin=-1, vmax=1)\n",
    "#plt.ylabel('Subjects Test', fontsize=20)\n",
    "#plt.xlabel('Subjects Retest', fontsize=20)\n",
    "plt.xticks(fontsize=15)\n",
    "plt.yticks(fontsize=15)\n",
    "plt.tight_layout()\n",
    "plt.show()"
   ]
  },
  {
   "cell_type": "code",
   "execution_count": null,
   "id": "118f6ef2-2d6f-4185-b0a6-47b170bb6163",
   "metadata": {},
   "outputs": [],
   "source": []
  }
 ],
 "metadata": {
  "kernelspec": {
   "display_name": "Python 3 (ipykernel)",
   "language": "python",
   "name": "python3"
  },
  "language_info": {
   "codemirror_mode": {
    "name": "ipython",
    "version": 3
   },
   "file_extension": ".py",
   "mimetype": "text/x-python",
   "name": "python",
   "nbconvert_exporter": "python",
   "pygments_lexer": "ipython3",
   "version": "3.9.13"
  }
 },
 "nbformat": 4,
 "nbformat_minor": 5
}
