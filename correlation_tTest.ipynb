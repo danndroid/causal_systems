{
 "cells": [
  {
   "cell_type": "code",
   "execution_count": 28,
   "id": "9b2dbdb4-3fda-4ff4-8b61-55165118383f",
   "metadata": {},
   "outputs": [],
   "source": [
    "import numpy as np\n",
    "from scipy.stats import pearsonr\n",
    "from scipy.stats import t\n",
    "\n",
    "import matplotlib.pyplot as plt"
   ]
  },
  {
   "cell_type": "code",
   "execution_count": 19,
   "id": "51cdac0d-bdd7-486d-bd10-4757b314a96f",
   "metadata": {},
   "outputs": [],
   "source": [
    "x = [20, 16, 20, 18, 17, 16, 15, 17, 15, 16, 15, 17, 16, 17, 14]"
   ]
  },
  {
   "cell_type": "code",
   "execution_count": 20,
   "id": "e5917c2c-fd39-4a67-bc17-4a5b068d67ad",
   "metadata": {},
   "outputs": [],
   "source": [
    "y = [89, 72, 93, 84, 81, 75, 70, 82, 69, 83, 80, 83, 81, 84, 76]"
   ]
  },
  {
   "cell_type": "code",
   "execution_count": 21,
   "id": "3cd516d0-6f0f-4861-8ec9-69202b690231",
   "metadata": {},
   "outputs": [
    {
     "data": {
      "text/plain": [
       "PearsonRResult(statistic=0.8253583543677587, pvalue=0.00015134616651594105)"
      ]
     },
     "execution_count": 21,
     "metadata": {},
     "output_type": "execute_result"
    }
   ],
   "source": [
    "pearsonr(x,y)"
   ]
  },
  {
   "cell_type": "markdown",
   "id": "f30c1057-a975-497e-a876-6375f9e0e72c",
   "metadata": {},
   "source": [
    "$t = r\\sqrt{(\\frac{n-2}{1-r^2})}$\n",
    "\n",
    "$r$: correlation coefficient\n",
    "\n",
    "$n-2$: deegres of freedom"
   ]
  },
  {
   "cell_type": "code",
   "execution_count": 22,
   "id": "37a03575-00f9-420c-b8b4-49e794d7d3e4",
   "metadata": {},
   "outputs": [
    {
     "data": {
      "text/plain": [
       "0.8253583543677587"
      ]
     },
     "execution_count": 22,
     "metadata": {},
     "output_type": "execute_result"
    }
   ],
   "source": [
    "r = pearsonr(x,y).statistic\n",
    "r"
   ]
  },
  {
   "cell_type": "code",
   "execution_count": 23,
   "id": "bbe8eb4c-f45d-4c18-b225-0f00e8b4c2c5",
   "metadata": {},
   "outputs": [
    {
     "data": {
      "text/plain": [
       "5.270675166531983"
      ]
     },
     "execution_count": 23,
     "metadata": {},
     "output_type": "execute_result"
    }
   ],
   "source": [
    "t = r * np.sqrt((len(x)-2) / (1-r**2))\n",
    "t"
   ]
  },
  {
   "cell_type": "markdown",
   "id": "15c7b0b8-f469-4941-b39d-8d729847926a",
   "metadata": {},
   "source": [
    "### t Distribution"
   ]
  },
  {
   "cell_type": "code",
   "execution_count": 27,
   "id": "e492c64a-d350-4c0f-a493-e8f7d696e0b0",
   "metadata": {},
   "outputs": [
    {
     "data": {
      "text/plain": [
       "(0.0, 1.1818181818181819, 0.0, 0.6666666666666666)"
      ]
     },
     "execution_count": 27,
     "metadata": {},
     "output_type": "execute_result"
    }
   ],
   "source": [
    "df = len(x)-2\n",
    "mean, var, skew, kurt = t.stats(df, moments='mvsk')\n",
    "mean, var, skew, kurt"
   ]
  },
  {
   "cell_type": "code",
   "execution_count": 35,
   "id": "b1b157f5-afb0-4210-b9d4-7e8bd71bbe01",
   "metadata": {},
   "outputs": [
    {
     "data": {
      "text/plain": [
       "[<matplotlib.lines.Line2D at 0x7aa280d1a3a0>]"
      ]
     },
     "execution_count": 35,
     "metadata": {},
     "output_type": "execute_result"
    },
    {
     "data": {
      "image/png": "[encoded data removed]",
      "text/plain": [
       "<Figure size 432x288 with 1 Axes>"
      ]
     },
     "metadata": {
      "needs_background": "light"
     },
     "output_type": "display_data"
    }
   ],
   "source": [
    "xs = np.linspace(t.ppf(0.01, df),\n",
    "                t.ppf(0.99, df), 100)\n",
    "plt.plot(xs, t.pdf(xs, df),\n",
    "       'r-', lw=2, alpha=0.6, label='t pdf')"
   ]
  },
  {
   "cell_type": "markdown",
   "id": "cce61159-b8ae-494e-85d9-78fa93ec2002",
   "metadata": {},
   "source": [
    "### $\\alpha = 0.05$: two tails of 0.025"
   ]
  },
  {
   "cell_type": "code",
   "execution_count": 42,
   "id": "1cb89a23-d1a1-4ffa-97eb-a005e88ca244",
   "metadata": {},
   "outputs": [
    {
     "data": {
      "text/plain": [
       "(-2.160368656461013, 2.1603686564610127)"
      ]
     },
     "execution_count": 42,
     "metadata": {},
     "output_type": "execute_result"
    }
   ],
   "source": [
    "# CRITICAL VALUES\n",
    "t.ppf(0.025, df), t.ppf(0.975, df)"
   ]
  },
  {
   "cell_type": "code",
   "execution_count": 40,
   "id": "0a064bc7-8e5d-4006-8973-52cd6e3ec992",
   "metadata": {},
   "outputs": [
    {
     "data": {
      "text/plain": [
       "(0.025016856056069046, 0.9749831439439309)"
      ]
     },
     "execution_count": 40,
     "metadata": {},
     "output_type": "execute_result"
    }
   ],
   "source": [
    "# PROBABILITY AT THE CRITICAL VALUES\n",
    "t.cdf(-2.160, df, loc=0, scale=1), t.cdf(2.160, df, loc=0, scale=1)"
   ]
  },
  {
   "cell_type": "code",
   "execution_count": 43,
   "id": "c31417dc-bf5c-46aa-b84d-3b3ca64b6c71",
   "metadata": {},
   "outputs": [
    {
     "data": {
      "text/plain": [
       "0.05003371211213811"
      ]
     },
     "execution_count": 43,
     "metadata": {},
     "output_type": "execute_result"
    }
   ],
   "source": [
    "# 0.05 TOTAL PROBABILITY\n",
    "t.cdf(-2.160, df, loc=0, scale=1) + (1 - t.cdf(2.160, df, loc=0, scale=1))"
   ]
  },
  {
   "cell_type": "code",
   "execution_count": null,
   "id": "eb332d0d-ab97-462b-939c-935fbfec6961",
   "metadata": {},
   "outputs": [],
   "source": []
  }
 ],
 "metadata": {
  "kernelspec": {
   "display_name": "Python 3 (ipykernel)",
   "language": "python",
   "name": "python3"
  },
  "language_info": {
   "codemirror_mode": {
    "name": "ipython",
    "version": 3
   },
   "file_extension": ".py",
   "mimetype": "text/x-python",
   "name": "python",
   "nbconvert_exporter": "python",
   "pygments_lexer": "ipython3",
   "version": "3.9.13"
  }
 },
 "nbformat": 4,
 "nbformat_minor": 5
}
