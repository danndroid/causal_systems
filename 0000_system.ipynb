{
 "cells": [
  {
   "cell_type": "code",
   "execution_count": 1,
   "id": "4dcedb67-2840-42a1-8ac2-664726f313ad",
   "metadata": {},
   "outputs": [
    {
     "name": "stderr",
     "output_type": "stream",
     "text": [
      "/home/warrior/miniconda3/envs/brain/lib/python3.9/site-packages/pandas/core/arrays/masked.py:60: UserWarning: Pandas requires version '1.3.6' or newer of 'bottleneck' (version '1.3.5' currently installed).\n",
      "  from pandas.core import (\n"
     ]
    }
   ],
   "source": [
    "import numpy as np\n",
    "import pandas as pd\n",
    "from scipy.stats import norm, binom, bernoulli\n",
    "import matplotlib.pyplot as plt\n",
    "\n",
    "import statsmodels.formula.api as smf\n",
    "\n",
    "import itertools\n",
    "import random\n",
    "import math"
   ]
  },
  {
   "cell_type": "code",
   "execution_count": 44,
   "id": "c941510c-3324-47ea-9f6b-8723c765dc7f",
   "metadata": {},
   "outputs": [],
   "source": [
    "N = 4\n",
    "DENSITY = 0.4\n",
    "NOISE_LEVEL = 0.3"
   ]
  },
  {
   "cell_type": "code",
   "execution_count": 45,
   "id": "f02573de-02fb-4127-b4ce-7747c7f96f75",
   "metadata": {},
   "outputs": [
    {
     "name": "stdout",
     "output_type": "stream",
     "text": [
      "EDGES (Combinations): 6\n",
      "\n",
      "EDGES (Hand-shake): 6\n"
     ]
    }
   ],
   "source": [
    "r = 2 #EDGE SIZE\n",
    "\n",
    "E = math.factorial(N) / (math.factorial(r)*math.factorial(N- r))\n",
    "print(f'EDGES (Combinations): {E:.0f}\\n')\n",
    "\n",
    "E = N*(N-1) / 2\n",
    "print(f'EDGES (Hand-shake): {E:.0f}')"
   ]
  },
  {
   "cell_type": "code",
   "execution_count": 46,
   "id": "12521209-158b-4a11-bf48-4d15a8e90b85",
   "metadata": {},
   "outputs": [
    {
     "data": {
      "text/plain": [
       "array([0, 1, 2, 3])"
      ]
     },
     "execution_count": 46,
     "metadata": {},
     "output_type": "execute_result"
    }
   ],
   "source": [
    "nodes = np.arange(N)\n",
    "nodes"
   ]
  },
  {
   "cell_type": "code",
   "execution_count": 47,
   "id": "b64071d3-866d-4131-96b8-5e824790bd3b",
   "metadata": {},
   "outputs": [],
   "source": [
    "edges = []\n",
    "combinations = itertools.combinations(range(N), r)\n",
    "for idx , e in enumerate(combinations):\n",
    "    p = np.random.rand()\n",
    "    #print(idx, p, e)\n",
    "    if p <= DENSITY:\n",
    "        edges.append(e)"
   ]
  },
  {
   "cell_type": "code",
   "execution_count": 48,
   "id": "bbb58214-195f-45c6-b6cf-e486d89df1df",
   "metadata": {},
   "outputs": [
    {
     "name": "stdout",
     "output_type": "stream",
     "text": [
      "2\n"
     ]
    },
    {
     "data": {
      "text/plain": [
       "[(0, 1), (1, 3)]"
      ]
     },
     "execution_count": 48,
     "metadata": {},
     "output_type": "execute_result"
    }
   ],
   "source": [
    "print(len(edges))\n",
    "edges"
   ]
  },
  {
   "cell_type": "code",
   "execution_count": 49,
   "id": "6af286fd-4050-47ac-bbca-bf0675c563e2",
   "metadata": {},
   "outputs": [
    {
     "data": {
      "text/plain": [
       "[0.9672577534982904, 0.26438710245328667]"
      ]
     },
     "execution_count": 49,
     "metadata": {},
     "output_type": "execute_result"
    }
   ],
   "source": [
    "coefficients = [np.random.rand() for e in edges]\n",
    "coefficients"
   ]
  },
  {
   "cell_type": "code",
   "execution_count": 50,
   "id": "2fcf7312-e3fb-49e2-9449-bbc6fdf589d2",
   "metadata": {},
   "outputs": [
    {
     "name": "stdout",
     "output_type": "stream",
     "text": [
      "{1: 0.9672577534982904, 3: 0.26438710245328667} \n",
      "\n",
      "{1: 0, 3: 1}\n"
     ]
    }
   ],
   "source": [
    "coeff_dict = {}\n",
    "parent_dict = {}\n",
    "for idx, e in enumerate(edges):\n",
    "    u, v = e[0], e[1]\n",
    "    coeff_dict[v] = coefficients[idx]\n",
    "    parent_dict[v] = u\n",
    "print(coeff_dict,'\\n')\n",
    "print(parent_dict)"
   ]
  },
  {
   "cell_type": "code",
   "execution_count": 51,
   "id": "22d95839-d0fe-48f1-8635-af9b856ae54d",
   "metadata": {},
   "outputs": [
    {
     "data": {
      "text/plain": [
       "[0, 1]"
      ]
     },
     "execution_count": 51,
     "metadata": {},
     "output_type": "execute_result"
    }
   ],
   "source": [
    "parents = list(parent_dict.values())\n",
    "parents"
   ]
  },
  {
   "cell_type": "code",
   "execution_count": 52,
   "id": "47d89efa-7bee-4290-b22b-5f6aec98f012",
   "metadata": {},
   "outputs": [
    {
     "data": {
      "text/plain": [
       "dict_keys([0, 1])"
      ]
     },
     "execution_count": 52,
     "metadata": {},
     "output_type": "execute_result"
    }
   ],
   "source": [
    "T = 1000\n",
    "system = {}\n",
    "for p in parents:\n",
    "    xs = norm.rvs(size=T)\n",
    "    system[p] = xs\n",
    "system.keys()"
   ]
  },
  {
   "cell_type": "code",
   "execution_count": 53,
   "id": "23652c4e-73c0-49de-bc5a-bb76ade255e8",
   "metadata": {},
   "outputs": [
    {
     "data": {
      "text/plain": [
       "[0.29411135002382605, 0.6230113916769325]"
      ]
     },
     "execution_count": 53,
     "metadata": {},
     "output_type": "execute_result"
    }
   ],
   "source": [
    "coefficients = [np.random.rand() for e in edges]\n",
    "coefficients"
   ]
  },
  {
   "cell_type": "code",
   "execution_count": 54,
   "id": "1948e2c8-34ed-4598-a217-83916b0a63ff",
   "metadata": {},
   "outputs": [
    {
     "name": "stdout",
     "output_type": "stream",
     "text": [
      "1 = 0.29 * 0\n",
      "3 = 0.62 * 1\n"
     ]
    }
   ],
   "source": [
    "coeff_dict = {}\n",
    "for idx, e in enumerate(edges):\n",
    "    u, v = e[0], e[1]\n",
    "    coeff_dict[v] = coefficients[idx]\n",
    "    print(f'{v} = {coeff_dict[v]:.2f} * {u}')"
   ]
  },
  {
   "cell_type": "code",
   "execution_count": 55,
   "id": "8eb2293e-321c-4cc3-a926-3659f5ee0282",
   "metadata": {},
   "outputs": [
    {
     "data": {
      "text/plain": [
       "dict_keys([0, 1])"
      ]
     },
     "execution_count": 55,
     "metadata": {},
     "output_type": "execute_result"
    }
   ],
   "source": [
    "T = 1000\n",
    "system = {}\n",
    "for p in parents:\n",
    "    xs = norm.rvs(size=T)\n",
    "    system[p] = xs\n",
    "system.keys()"
   ]
  },
  {
   "cell_type": "code",
   "execution_count": 56,
   "id": "8d5058f5-b6dc-48d1-9879-645e7daac326",
   "metadata": {},
   "outputs": [
    {
     "name": "stdout",
     "output_type": "stream",
     "text": [
      "{1: 0.29411135002382605, 3: 0.6230113916769325} \n",
      "\n",
      "{1: 0, 3: 1}\n"
     ]
    }
   ],
   "source": [
    "coeff_dict = {}\n",
    "parent_dict = {}\n",
    "for idx, e in enumerate(edges):\n",
    "    u, v = e[0], e[1]\n",
    "    coeff_dict[v] = coefficients[idx]\n",
    "    parent_dict[v] = u\n",
    "print(coeff_dict,'\\n')\n",
    "print(parent_dict)"
   ]
  },
  {
   "cell_type": "code",
   "execution_count": 57,
   "id": "3e0d3ceb-65a5-4d82-a693-fdea77eac648",
   "metadata": {},
   "outputs": [
    {
     "name": "stdout",
     "output_type": "stream",
     "text": [
      "(1<-0):  X1 <- 0.29*X0 + err\n",
      "(1<-0):  X1 <- -0.29*X0 + err\n",
      "\n",
      "(3<-1):  X3 <- 0.62*X1 + err\n",
      "(3<-1):  X3 <- 0.62*X1 + err\n",
      "\n"
     ]
    }
   ],
   "source": [
    "for idx, e in enumerate(edges):\n",
    "    u, v = e[0], e[1]\n",
    "    #print(u,v)\n",
    "    c = coeff_dict[v]\n",
    "    #print(idx, p, e)\n",
    "    sign = 1\n",
    "    p = np.random.rand()\n",
    "    if p > 0.8: # \n",
    "        sign = -1\n",
    "    \n",
    "    system[v] = sign*c*system[u] + NOISE_LEVEL*norm.rvs(size=T) # DYNAMICS\n",
    "\n",
    "    print(f'({v}<-{u}):  X{str(v)} <- {c:.2f}*X{str(u)} + err')\n",
    "    print(f'({v}<-{u}):  X{str(v)} <- {sign*c:.2f}*X{str(u)} + err')\n",
    "    print('')"
   ]
  },
  {
   "cell_type": "code",
   "execution_count": 58,
   "id": "a0e4966b-3e97-4cf1-b8d2-8c8b9e913295",
   "metadata": {},
   "outputs": [
    {
     "data": {
      "text/html": [
       "<div>\n",
       "<style scoped>\n",
       "    .dataframe tbody tr th:only-of-type {\n",
       "        vertical-align: middle;\n",
       "    }\n",
       "\n",
       "    .dataframe tbody tr th {\n",
       "        vertical-align: top;\n",
       "    }\n",
       "\n",
       "    .dataframe thead th {\n",
       "        text-align: right;\n",
       "    }\n",
       "</style>\n",
       "<table border=\"1\" class=\"dataframe\">\n",
       "  <thead>\n",
       "    <tr style=\"text-align: right;\">\n",
       "      <th></th>\n",
       "      <th>0</th>\n",
       "      <th>1</th>\n",
       "      <th>3</th>\n",
       "    </tr>\n",
       "  </thead>\n",
       "  <tbody>\n",
       "    <tr>\n",
       "      <th>0</th>\n",
       "      <td>0.785558</td>\n",
       "      <td>0.043676</td>\n",
       "      <td>0.190072</td>\n",
       "    </tr>\n",
       "    <tr>\n",
       "      <th>1</th>\n",
       "      <td>-0.484350</td>\n",
       "      <td>0.217131</td>\n",
       "      <td>0.486008</td>\n",
       "    </tr>\n",
       "    <tr>\n",
       "      <th>2</th>\n",
       "      <td>-0.184296</td>\n",
       "      <td>0.172677</td>\n",
       "      <td>0.018444</td>\n",
       "    </tr>\n",
       "    <tr>\n",
       "      <th>3</th>\n",
       "      <td>-0.032991</td>\n",
       "      <td>-0.325348</td>\n",
       "      <td>-0.225621</td>\n",
       "    </tr>\n",
       "    <tr>\n",
       "      <th>4</th>\n",
       "      <td>0.972167</td>\n",
       "      <td>-0.543642</td>\n",
       "      <td>-0.210886</td>\n",
       "    </tr>\n",
       "  </tbody>\n",
       "</table>\n",
       "</div>"
      ],
      "text/plain": [
       "          0         1         3\n",
       "0  0.785558  0.043676  0.190072\n",
       "1 -0.484350  0.217131  0.486008\n",
       "2 -0.184296  0.172677  0.018444\n",
       "3 -0.032991 -0.325348 -0.225621\n",
       "4  0.972167 -0.543642 -0.210886"
      ]
     },
     "execution_count": 58,
     "metadata": {},
     "output_type": "execute_result"
    }
   ],
   "source": [
    "pd.DataFrame(system).head()"
   ]
  },
  {
   "cell_type": "code",
   "execution_count": 59,
   "id": "0acde46f-6f80-4c8c-9aa6-ab93fbb4f467",
   "metadata": {},
   "outputs": [
    {
     "data": {
      "text/plain": [
       "dict_keys([0, 1, 3])"
      ]
     },
     "execution_count": 59,
     "metadata": {},
     "output_type": "execute_result"
    }
   ],
   "source": [
    "kernel = system.keys()\n",
    "kernel"
   ]
  },
  {
   "cell_type": "code",
   "execution_count": 60,
   "id": "915423c6-8337-44a5-ae20-744d7f8d257f",
   "metadata": {},
   "outputs": [
    {
     "data": {
      "text/plain": [
       "[2]"
      ]
     },
     "execution_count": 60,
     "metadata": {},
     "output_type": "execute_result"
    }
   ],
   "source": [
    "shell = [n for n in nodes if n not in kernel]\n",
    "shell"
   ]
  },
  {
   "cell_type": "code",
   "execution_count": 61,
   "id": "511ee000-6ef9-45a7-aa53-0e6e68cbdab7",
   "metadata": {},
   "outputs": [],
   "source": [
    "for n in shell:\n",
    "    system[n] = norm.rvs(size=T)"
   ]
  },
  {
   "cell_type": "code",
   "execution_count": 62,
   "id": "616dca30-1f04-4718-a8e4-e58167eaada6",
   "metadata": {},
   "outputs": [
    {
     "data": {
      "text/html": [
       "<div>\n",
       "<style scoped>\n",
       "    .dataframe tbody tr th:only-of-type {\n",
       "        vertical-align: middle;\n",
       "    }\n",
       "\n",
       "    .dataframe tbody tr th {\n",
       "        vertical-align: top;\n",
       "    }\n",
       "\n",
       "    .dataframe thead th {\n",
       "        text-align: right;\n",
       "    }\n",
       "</style>\n",
       "<table border=\"1\" class=\"dataframe\">\n",
       "  <thead>\n",
       "    <tr style=\"text-align: right;\">\n",
       "      <th></th>\n",
       "      <th>0</th>\n",
       "      <th>1</th>\n",
       "      <th>3</th>\n",
       "      <th>2</th>\n",
       "    </tr>\n",
       "  </thead>\n",
       "  <tbody>\n",
       "    <tr>\n",
       "      <th>0</th>\n",
       "      <td>0.785558</td>\n",
       "      <td>0.043676</td>\n",
       "      <td>0.190072</td>\n",
       "      <td>0.399793</td>\n",
       "    </tr>\n",
       "    <tr>\n",
       "      <th>1</th>\n",
       "      <td>-0.484350</td>\n",
       "      <td>0.217131</td>\n",
       "      <td>0.486008</td>\n",
       "      <td>0.754017</td>\n",
       "    </tr>\n",
       "    <tr>\n",
       "      <th>2</th>\n",
       "      <td>-0.184296</td>\n",
       "      <td>0.172677</td>\n",
       "      <td>0.018444</td>\n",
       "      <td>-0.358288</td>\n",
       "    </tr>\n",
       "    <tr>\n",
       "      <th>3</th>\n",
       "      <td>-0.032991</td>\n",
       "      <td>-0.325348</td>\n",
       "      <td>-0.225621</td>\n",
       "      <td>0.505183</td>\n",
       "    </tr>\n",
       "    <tr>\n",
       "      <th>4</th>\n",
       "      <td>0.972167</td>\n",
       "      <td>-0.543642</td>\n",
       "      <td>-0.210886</td>\n",
       "      <td>-2.148327</td>\n",
       "    </tr>\n",
       "  </tbody>\n",
       "</table>\n",
       "</div>"
      ],
      "text/plain": [
       "          0         1         3         2\n",
       "0  0.785558  0.043676  0.190072  0.399793\n",
       "1 -0.484350  0.217131  0.486008  0.754017\n",
       "2 -0.184296  0.172677  0.018444 -0.358288\n",
       "3 -0.032991 -0.325348 -0.225621  0.505183\n",
       "4  0.972167 -0.543642 -0.210886 -2.148327"
      ]
     },
     "execution_count": 62,
     "metadata": {},
     "output_type": "execute_result"
    }
   ],
   "source": [
    "system_df = pd.DataFrame(system)\n",
    "system_df.head()"
   ]
  },
  {
   "cell_type": "code",
   "execution_count": 63,
   "id": "0144de23-80f7-45cf-9ebe-62cbbf639702",
   "metadata": {},
   "outputs": [
    {
     "data": {
      "text/html": [
       "<div>\n",
       "<style scoped>\n",
       "    .dataframe tbody tr th:only-of-type {\n",
       "        vertical-align: middle;\n",
       "    }\n",
       "\n",
       "    .dataframe tbody tr th {\n",
       "        vertical-align: top;\n",
       "    }\n",
       "\n",
       "    .dataframe thead th {\n",
       "        text-align: right;\n",
       "    }\n",
       "</style>\n",
       "<table border=\"1\" class=\"dataframe\">\n",
       "  <thead>\n",
       "    <tr style=\"text-align: right;\">\n",
       "      <th></th>\n",
       "      <th>0</th>\n",
       "      <th>1</th>\n",
       "      <th>2</th>\n",
       "      <th>3</th>\n",
       "    </tr>\n",
       "  </thead>\n",
       "  <tbody>\n",
       "    <tr>\n",
       "      <th>0</th>\n",
       "      <td>0.785558</td>\n",
       "      <td>0.043676</td>\n",
       "      <td>0.399793</td>\n",
       "      <td>0.190072</td>\n",
       "    </tr>\n",
       "    <tr>\n",
       "      <th>1</th>\n",
       "      <td>-0.484350</td>\n",
       "      <td>0.217131</td>\n",
       "      <td>0.754017</td>\n",
       "      <td>0.486008</td>\n",
       "    </tr>\n",
       "    <tr>\n",
       "      <th>2</th>\n",
       "      <td>-0.184296</td>\n",
       "      <td>0.172677</td>\n",
       "      <td>-0.358288</td>\n",
       "      <td>0.018444</td>\n",
       "    </tr>\n",
       "    <tr>\n",
       "      <th>3</th>\n",
       "      <td>-0.032991</td>\n",
       "      <td>-0.325348</td>\n",
       "      <td>0.505183</td>\n",
       "      <td>-0.225621</td>\n",
       "    </tr>\n",
       "    <tr>\n",
       "      <th>4</th>\n",
       "      <td>0.972167</td>\n",
       "      <td>-0.543642</td>\n",
       "      <td>-2.148327</td>\n",
       "      <td>-0.210886</td>\n",
       "    </tr>\n",
       "  </tbody>\n",
       "</table>\n",
       "</div>"
      ],
      "text/plain": [
       "          0         1         2         3\n",
       "0  0.785558  0.043676  0.399793  0.190072\n",
       "1 -0.484350  0.217131  0.754017  0.486008\n",
       "2 -0.184296  0.172677 -0.358288  0.018444\n",
       "3 -0.032991 -0.325348  0.505183 -0.225621\n",
       "4  0.972167 -0.543642 -2.148327 -0.210886"
      ]
     },
     "execution_count": 63,
     "metadata": {},
     "output_type": "execute_result"
    }
   ],
   "source": [
    "system_df = system_df[nodes]\n",
    "system_df.head()"
   ]
  },
  {
   "cell_type": "code",
   "execution_count": 64,
   "id": "7d8c06bd-3eee-4077-bf10-4f990b729df2",
   "metadata": {},
   "outputs": [],
   "source": [
    "system_df.to_csv('data/system.csv', index=False)"
   ]
  },
  {
   "cell_type": "code",
   "execution_count": null,
   "id": "a99a0623-fb7a-4d7f-b105-b7fcc451faad",
   "metadata": {},
   "outputs": [],
   "source": []
  }
 ],
 "metadata": {
  "kernelspec": {
   "display_name": "Python 3 (ipykernel)",
   "language": "python",
   "name": "python3"
  },
  "language_info": {
   "codemirror_mode": {
    "name": "ipython",
    "version": 3
   },
   "file_extension": ".py",
   "mimetype": "text/x-python",
   "name": "python",
   "nbconvert_exporter": "python",
   "pygments_lexer": "ipython3",
   "version": "3.9.13"
  }
 },
 "nbformat": 4,
 "nbformat_minor": 5
}
