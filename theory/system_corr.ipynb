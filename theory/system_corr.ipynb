{
 "cells": [
  {
   "cell_type": "code",
   "execution_count": 10,
   "id": "0113fe23-3158-4bb8-ac92-bb9bfc2840b5",
   "metadata": {},
   "outputs": [],
   "source": [
    "import numpy as np\n",
    "import pandas as pd\n",
    "import matplotlib.pyplot as plt\n",
    "import seaborn as sns"
   ]
  },
  {
   "cell_type": "code",
   "execution_count": 11,
   "id": "f7184495-16a7-4293-aa26-b20484c29938",
   "metadata": {},
   "outputs": [
    {
     "data": {
      "text/html": [
       "<div>\n",
       "<style scoped>\n",
       "    .dataframe tbody tr th:only-of-type {\n",
       "        vertical-align: middle;\n",
       "    }\n",
       "\n",
       "    .dataframe tbody tr th {\n",
       "        vertical-align: top;\n",
       "    }\n",
       "\n",
       "    .dataframe thead th {\n",
       "        text-align: right;\n",
       "    }\n",
       "</style>\n",
       "<table border=\"1\" class=\"dataframe\">\n",
       "  <thead>\n",
       "    <tr style=\"text-align: right;\">\n",
       "      <th></th>\n",
       "      <th>0</th>\n",
       "      <th>1</th>\n",
       "      <th>2</th>\n",
       "      <th>3</th>\n",
       "    </tr>\n",
       "  </thead>\n",
       "  <tbody>\n",
       "    <tr>\n",
       "      <th>0</th>\n",
       "      <td>0.785558</td>\n",
       "      <td>0.043676</td>\n",
       "      <td>0.399793</td>\n",
       "      <td>0.190072</td>\n",
       "    </tr>\n",
       "    <tr>\n",
       "      <th>1</th>\n",
       "      <td>-0.484350</td>\n",
       "      <td>0.217131</td>\n",
       "      <td>0.754017</td>\n",
       "      <td>0.486008</td>\n",
       "    </tr>\n",
       "    <tr>\n",
       "      <th>2</th>\n",
       "      <td>-0.184296</td>\n",
       "      <td>0.172677</td>\n",
       "      <td>-0.358288</td>\n",
       "      <td>0.018444</td>\n",
       "    </tr>\n",
       "    <tr>\n",
       "      <th>3</th>\n",
       "      <td>-0.032991</td>\n",
       "      <td>-0.325348</td>\n",
       "      <td>0.505183</td>\n",
       "      <td>-0.225621</td>\n",
       "    </tr>\n",
       "    <tr>\n",
       "      <th>4</th>\n",
       "      <td>0.972167</td>\n",
       "      <td>-0.543642</td>\n",
       "      <td>-2.148327</td>\n",
       "      <td>-0.210886</td>\n",
       "    </tr>\n",
       "  </tbody>\n",
       "</table>\n",
       "</div>"
      ],
      "text/plain": [
       "          0         1         2         3\n",
       "0  0.785558  0.043676  0.399793  0.190072\n",
       "1 -0.484350  0.217131  0.754017  0.486008\n",
       "2 -0.184296  0.172677 -0.358288  0.018444\n",
       "3 -0.032991 -0.325348  0.505183 -0.225621\n",
       "4  0.972167 -0.543642 -2.148327 -0.210886"
      ]
     },
     "execution_count": 11,
     "metadata": {},
     "output_type": "execute_result"
    }
   ],
   "source": [
    "data = pd.read_csv('data/system.csv')\n",
    "data.head()"
   ]
  },
  {
   "cell_type": "code",
   "execution_count": 12,
   "id": "fa2f8d10-6722-4b0f-9dfa-d487a2debc4c",
   "metadata": {},
   "outputs": [],
   "source": [
    "S = data.corr()\n",
    "S.columns = [s.upper() if s != 'Urgency' else s for s in S.columns]\n",
    "S.index = S.columns"
   ]
  },
  {
   "cell_type": "code",
   "execution_count": 21,
   "id": "cc4a2eb7-9a31-48f1-8476-77556846f1eb",
   "metadata": {},
   "outputs": [
    {
     "data": {
      "image/png": "[encoded data removed]",
      "text/plain": [
       "<Figure size 400x300 with 2 Axes>"
      ]
     },
     "metadata": {},
     "output_type": "display_data"
    }
   ],
   "source": [
    "plt.figure(figsize=(4,3))\n",
    "#plt.title('Correlation Between Variables', fontsize=25)\n",
    "sns.heatmap(S, cmap='vlag', vmin=-1, vmax=1)\n",
    "#plt.ylabel('Subjects Test', fontsize=20)\n",
    "#plt.xlabel('Subjects Retest', fontsize=20)\n",
    "plt.xticks(fontsize=15)\n",
    "plt.yticks(fontsize=15)\n",
    "plt.tight_layout()\n",
    "plt.show()"
   ]
  },
  {
   "cell_type": "code",
   "execution_count": null,
   "id": "588e01df-d7ce-46e1-ba19-2b50415024b3",
   "metadata": {},
   "outputs": [],
   "source": []
  }
 ],
 "metadata": {
  "kernelspec": {
   "display_name": "Python 3 (ipykernel)",
   "language": "python",
   "name": "python3"
  },
  "language_info": {
   "codemirror_mode": {
    "name": "ipython",
    "version": 3
   },
   "file_extension": ".py",
   "mimetype": "text/x-python",
   "name": "python",
   "nbconvert_exporter": "python",
   "pygments_lexer": "ipython3",
   "version": "3.9.13"
  }
 },
 "nbformat": 4,
 "nbformat_minor": 5
}
