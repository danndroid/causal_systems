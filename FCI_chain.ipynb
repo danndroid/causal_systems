{
 "cells": [
  {
   "cell_type": "code",
   "execution_count": 18,
   "id": "312c3007-fcea-479e-8175-3a701961f660",
   "metadata": {},
   "outputs": [],
   "source": [
    "import numpy as np\n",
    "import pandas as pd\n",
    "from scipy.stats import norm, binom, bernoulli\n",
    "from scipy.stats import pearsonr\n",
    "\n",
    "import matplotlib.pyplot as plt\n",
    "import seaborn as sns\n",
    "\n",
    "import statsmodels.formula.api as smf\n",
    "\n",
    "from scipy.stats import zscore\n",
    "\n",
    "from IPython.display import Image, display"
   ]
  },
  {
   "cell_type": "code",
   "execution_count": 31,
   "id": "e25fcd2d-359f-41e2-9a49-4ecaecd5afb6",
   "metadata": {},
   "outputs": [],
   "source": [
    "from causallearn.search.ConstraintBased.FCI import fci\n",
    "from causallearn.utils.GraphUtils import GraphUtils\n",
    "# import networkx as nx\n",
    "# to_pdot = nx.drawing.nx_pydot.to_pydot\n",
    "# pdot = to_pdot(nx.complete_graph(5))\n",
    "# view_pydot(pdot)"
   ]
  },
  {
   "cell_type": "code",
   "execution_count": 11,
   "id": "990e8b42-c09a-4fbc-a0a2-107f654ad0e0",
   "metadata": {},
   "outputs": [
    {
     "data": {
      "text/plain": [
       "array([[ 1.66243846,  2.43275037,  2.61938388],\n",
       "       [ 0.01053146,  0.35225572,  1.86116337],\n",
       "       [ 0.89019622,  0.86097339,  1.24342546],\n",
       "       ...,\n",
       "       [ 0.60046421,  1.09022556,  0.87159572],\n",
       "       [ 0.41600954,  0.46976293, -0.01273993],\n",
       "       [-1.09081582, -0.89481958, -0.77229256]])"
      ]
     },
     "execution_count": 11,
     "metadata": {},
     "output_type": "execute_result"
    }
   ],
   "source": [
    "df = pd.read_csv('data/chain_model.csv').values\n",
    "data = zscore(df)\n",
    "data"
   ]
  },
  {
   "cell_type": "code",
   "execution_count": 128,
   "id": "d8d4b76f-429f-462d-96c2-e1d80d353996",
   "metadata": {},
   "outputs": [
    {
     "name": "stderr",
     "output_type": "stream",
     "text": [
      "Depth=0, working on node 2: 100%|███████████████| 3/3 [00:00<00:00, 1552.30it/s]\n"
     ]
    }
   ],
   "source": [
    "g, edges = fci(data, independence_test_method='fisherz', node_names=['x','y','z'])"
   ]
  },
  {
   "cell_type": "code",
   "execution_count": 129,
   "id": "4ad75e3a-5e18-434a-89d6-0145fafa3974",
   "metadata": {},
   "outputs": [
    {
     "data": {
      "text/plain": [
       "<causallearn.graph.GeneralGraph.GeneralGraph at 0x7c339c1828e0>"
      ]
     },
     "execution_count": 129,
     "metadata": {},
     "output_type": "execute_result"
    }
   ],
   "source": [
    "g"
   ]
  },
  {
   "cell_type": "code",
   "execution_count": 130,
   "id": "c5a94acd-c8cb-46b1-ad61-ebb5033c7306",
   "metadata": {},
   "outputs": [
    {
     "data": {
      "text/plain": [
       "[<causallearn.graph.GraphNode.GraphNode at 0x7c339c182d60>,\n",
       " <causallearn.graph.GraphNode.GraphNode at 0x7c339c182280>,\n",
       " <causallearn.graph.GraphNode.GraphNode at 0x7c339c182730>]"
      ]
     },
     "execution_count": 130,
     "metadata": {},
     "output_type": "execute_result"
    }
   ],
   "source": [
    "g.get_causal_ordering()"
   ]
  },
  {
   "cell_type": "code",
   "execution_count": 131,
   "id": "48da0978-0cc9-4135-8fc0-37907ef6585a",
   "metadata": {},
   "outputs": [
    {
     "data": {
      "text/plain": [
       "{<causallearn.graph.GraphNode.GraphNode at 0x7c339c182d60>: 0,\n",
       " <causallearn.graph.GraphNode.GraphNode at 0x7c339c182280>: 1,\n",
       " <causallearn.graph.GraphNode.GraphNode at 0x7c339c182730>: 2}"
      ]
     },
     "execution_count": 131,
     "metadata": {},
     "output_type": "execute_result"
    }
   ],
   "source": [
    "g.get_node_map()"
   ]
  },
  {
   "cell_type": "code",
   "execution_count": 132,
   "id": "454ea57a-7d71-47a3-9a5e-299b45fca0d4",
   "metadata": {},
   "outputs": [
    {
     "name": "stdout",
     "output_type": "stream",
     "text": [
      "x MEASURED None\n",
      "y MEASURED None\n",
      "z MEASURED None\n"
     ]
    }
   ],
   "source": [
    "for n in g.get_causal_ordering():\n",
    "    print(n.get_name(), n.get_node_type(), n.get_node_variable_type())"
   ]
  },
  {
   "cell_type": "code",
   "execution_count": 133,
   "id": "e8fbcd7b-dd4b-40ea-874b-14f5c16755a2",
   "metadata": {},
   "outputs": [
    {
     "data": {
      "text/plain": [
       "True"
      ]
     },
     "execution_count": 133,
     "metadata": {},
     "output_type": "execute_result"
    }
   ],
   "source": [
    "g.pag"
   ]
  },
  {
   "cell_type": "code",
   "execution_count": 134,
   "id": "a100fe62-bfa5-4f52-b600-d31556cd4650",
   "metadata": {},
   "outputs": [
    {
     "data": {
      "text/plain": [
       "3"
      ]
     },
     "execution_count": 134,
     "metadata": {},
     "output_type": "execute_result"
    }
   ],
   "source": [
    "g.num_vars"
   ]
  },
  {
   "cell_type": "code",
   "execution_count": 135,
   "id": "d0687b3e-8b7c-4e4c-aa8e-7de4ddd82a38",
   "metadata": {},
   "outputs": [
    {
     "data": {
      "text/plain": [
       "array([[0, 2, 0],\n",
       "       [2, 0, 2],\n",
       "       [0, 2, 0]])"
      ]
     },
     "execution_count": 135,
     "metadata": {},
     "output_type": "execute_result"
    }
   ],
   "source": [
    "g.graph"
   ]
  },
  {
   "cell_type": "markdown",
   "id": "b541f4f0-dc12-4a9e-bf0d-5e10c797397b",
   "metadata": {},
   "source": [
    "### Endpoints interpretation\n",
    "\n",
    "A --> B: G[A,B] = -1, G[A,B] = 1\n",
    "\n",
    "A o-> B: G[A,B] = 2, G[A,B] = 1\n",
    "\n",
    "A o-o B: G[A,B] = 2, G[A,B] = 2\n",
    "\n",
    "A <-> B: G[A,B] = 1, G[A,B] = 1"
   ]
  },
  {
   "cell_type": "code",
   "execution_count": 136,
   "id": "5313c937-0a0c-41c9-84b2-64e92c0b2934",
   "metadata": {},
   "outputs": [
    {
     "name": "stdout",
     "output_type": "stream",
     "text": [
      "x -- y\n"
     ]
    }
   ],
   "source": [
    "node = g.get_causal_ordering()[0]\n",
    "for n in g.get_adjacent_nodes(node=node):\n",
    "    print(f'{node} -- {n}')"
   ]
  },
  {
   "cell_type": "code",
   "execution_count": 137,
   "id": "faa4e06b-f337-429e-af77-f0880bbfec89",
   "metadata": {},
   "outputs": [
    {
     "data": {
      "text/plain": [
       "[<causallearn.graph.Edge.Edge at 0x7c339c1825e0>,\n",
       " <causallearn.graph.Edge.Edge at 0x7c339c182490>]"
      ]
     },
     "execution_count": 137,
     "metadata": {},
     "output_type": "execute_result"
    }
   ],
   "source": [
    "g.get_graph_edges()"
   ]
  },
  {
   "cell_type": "code",
   "execution_count": 138,
   "id": "77f922e8-5c59-41d1-b805-f180d77cea0d",
   "metadata": {},
   "outputs": [
    {
     "data": {
      "text/plain": [
       "[]"
      ]
     },
     "execution_count": 138,
     "metadata": {},
     "output_type": "execute_result"
    }
   ],
   "source": [
    "g.get_graph_edges()[0].properties"
   ]
  },
  {
   "cell_type": "code",
   "execution_count": 139,
   "id": "9e070a55-fe62-414a-b878-f1a9920cb933",
   "metadata": {},
   "outputs": [
    {
     "data": {
      "text/plain": [
       "{<causallearn.graph.GraphNode.GraphNode at 0x7c339c182d60>: 0,\n",
       " <causallearn.graph.GraphNode.GraphNode at 0x7c339c182280>: 1,\n",
       " <causallearn.graph.GraphNode.GraphNode at 0x7c339c182730>: 2}"
      ]
     },
     "execution_count": 139,
     "metadata": {},
     "output_type": "execute_result"
    }
   ],
   "source": [
    "g.get_node_map()"
   ]
  },
  {
   "cell_type": "code",
   "execution_count": null,
   "id": "e59af8b8-ba33-4a51-bb90-1e2132131a24",
   "metadata": {},
   "outputs": [],
   "source": []
  },
  {
   "cell_type": "code",
   "execution_count": null,
   "id": "109cbf12-9623-4e51-be4b-add382265843",
   "metadata": {},
   "outputs": [],
   "source": []
  },
  {
   "cell_type": "code",
   "execution_count": 140,
   "id": "ccb95249-aa0b-4434-b6bb-58a97949978c",
   "metadata": {},
   "outputs": [],
   "source": [
    "pdy = GraphUtils.to_pydot(g)\n",
    "#pdy.write_png('simple_test.png')"
   ]
  },
  {
   "cell_type": "code",
   "execution_count": 141,
   "id": "dbb8e681-7bc1-4b9c-bc99-3168187aa58d",
   "metadata": {},
   "outputs": [
    {
     "data": {
      "image/png": "[encoded data removed]",
      "text/plain": [
       "<IPython.core.display.Image object>"
      ]
     },
     "execution_count": 141,
     "metadata": {
      "image/png": {
       "height": 70,
       "width": 70
      }
     },
     "output_type": "execute_result"
    }
   ],
   "source": [
    "Image(pdy.create_png(), width=70, height=70)"
   ]
  },
  {
   "cell_type": "code",
   "execution_count": 45,
   "id": "3a896cda-8321-4415-9e19-f41e80ff528c",
   "metadata": {},
   "outputs": [
    {
     "name": "stdout",
     "output_type": "stream",
     "text": [
      "X1\n",
      "X2\n"
     ]
    }
   ],
   "source": [
    "print(edges[0].get_node1().get_name())\n",
    "print(edges[0].get_node2().get_name())"
   ]
  },
  {
   "cell_type": "code",
   "execution_count": 46,
   "id": "4e10ac3a-d534-4b33-976b-4c6fc7bc64ba",
   "metadata": {},
   "outputs": [
    {
     "data": {
      "text/plain": [
       "[]"
      ]
     },
     "execution_count": 46,
     "metadata": {},
     "output_type": "execute_result"
    }
   ],
   "source": [
    "edges[0].properties"
   ]
  },
  {
   "cell_type": "code",
   "execution_count": 51,
   "id": "664fdb35-5c2f-443a-8f01-40b90a7a1818",
   "metadata": {},
   "outputs": [],
   "source": [
    "x, y, z = data[:,0], data[:,1], data[:,2]"
   ]
  },
  {
   "cell_type": "code",
   "execution_count": 53,
   "id": "174cdcc3-b32b-40fc-8e90-7594e2aa4b9a",
   "metadata": {},
   "outputs": [
    {
     "name": "stdout",
     "output_type": "stream",
     "text": [
      "(x,y) r:0.9319 p:0.0000\n",
      "(x,z) r:0.6584 p:0.0000\n",
      "(y,z) r:0.7047 p:0.0000\n"
     ]
    }
   ],
   "source": [
    "print(f'(x,y) r:{pearsonr(x,y).statistic:.4f} p:{pearsonr(x,y).pvalue:.4f}')\n",
    "print(f'(x,z) r:{pearsonr(x,z).statistic:.4f} p:{pearsonr(x,z).pvalue:.4f}')\n",
    "print(f'(y,z) r:{pearsonr(y,z).statistic:.4f} p:{pearsonr(y,z).pvalue:.4f}')"
   ]
  },
  {
   "cell_type": "code",
   "execution_count": 55,
   "id": "95ea0b20-47e5-4625-b16b-297d65d90820",
   "metadata": {},
   "outputs": [],
   "source": [
    "x = np.expand_dims(x, axis=1)\n",
    "y = np.expand_dims(y, axis=1)\n",
    "z = np.expand_dims(z, axis=1)"
   ]
  },
  {
   "cell_type": "code",
   "execution_count": 54,
   "id": "f995106b-95ca-412a-a92c-e5278ad89829",
   "metadata": {},
   "outputs": [],
   "source": [
    "from utils import my_fisherz"
   ]
  },
  {
   "cell_type": "code",
   "execution_count": 57,
   "id": "7489ebab-9d21-4b8e-ba9c-be684ff77669",
   "metadata": {},
   "outputs": [
    {
     "name": "stdout",
     "output_type": "stream",
     "text": [
      "24.9464, 0.0000\n",
      "0.2109, 0.8330\n"
     ]
    }
   ],
   "source": [
    "my_fisherz(x,z)\n",
    "my_fisherz(x,z, condition_on=y)"
   ]
  },
  {
   "cell_type": "code",
   "execution_count": 58,
   "id": "6786f1b8-f51a-4935-8b81-75247a59c961",
   "metadata": {},
   "outputs": [
    {
     "name": "stdout",
     "output_type": "stream",
     "text": [
      "52.8109, 0.0000\n",
      "42.8933, 0.0000\n"
     ]
    }
   ],
   "source": [
    "my_fisherz(x,y)\n",
    "my_fisherz(x,y, condition_on=z)"
   ]
  },
  {
   "cell_type": "code",
   "execution_count": 59,
   "id": "5920ea56-0a45-4833-aa97-da3a4387a6db",
   "metadata": {},
   "outputs": [
    {
     "name": "stdout",
     "output_type": "stream",
     "text": [
      "27.6798, 0.0000\n",
      "10.9539, 0.0000\n"
     ]
    }
   ],
   "source": [
    "my_fisherz(y,z)\n",
    "my_fisherz(y,z, condition_on=x)"
   ]
  },
  {
   "cell_type": "code",
   "execution_count": null,
   "id": "24248d11-e236-41df-b779-974047e0a223",
   "metadata": {},
   "outputs": [],
   "source": []
  }
 ],
 "metadata": {
  "kernelspec": {
   "display_name": "Python 3 (ipykernel)",
   "language": "python",
   "name": "python3"
  },
  "language_info": {
   "codemirror_mode": {
    "name": "ipython",
    "version": 3
   },
   "file_extension": ".py",
   "mimetype": "text/x-python",
   "name": "python",
   "nbconvert_exporter": "python",
   "pygments_lexer": "ipython3",
   "version": "3.9.13"
  }
 },
 "nbformat": 4,
 "nbformat_minor": 5
}
